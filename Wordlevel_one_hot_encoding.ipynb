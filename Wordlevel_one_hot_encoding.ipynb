{
  "nbformat": 4,
  "nbformat_minor": 0,
  "metadata": {
    "colab": {
      "name": "Wordlevel one hot encoding.ipynb",
      "provenance": []
    },
    "kernelspec": {
      "name": "python3",
      "display_name": "Python 3"
    },
    "language_info": {
      "name": "python"
    }
  },
  "cells": [
    {
      "cell_type": "code",
      "execution_count": 10,
      "metadata": {
        "id": "nbnim1ODUPfg"
      },
      "outputs": [],
      "source": [
        "import numpy as np\n",
        "from numpy.lib.shape_base import split"
      ]
    },
    {
      "cell_type": "code",
      "source": [
        "samples = {'The cat sat on the mat.', 'The dog ate my homework'}"
      ],
      "metadata": {
        "id": "qLtZRwxvXg2d"
      },
      "execution_count": 2,
      "outputs": []
    },
    {
      "cell_type": "code",
      "source": [
        "token_index = {}\n",
        "for sample in samples:\n",
        "  for word in sample.split():\n",
        "    if word not in token_index:\n",
        "        token_index[word] = len(token_index) +1"
      ],
      "metadata": {
        "id": "lLfcRq7pXsI4"
      },
      "execution_count": 4,
      "outputs": []
    },
    {
      "cell_type": "code",
      "source": [
        ""
      ],
      "metadata": {
        "id": "BAmskTxFZ598"
      },
      "execution_count": null,
      "outputs": []
    },
    {
      "cell_type": "code",
      "source": [
        "max_length = 10\n",
        "results = np.zeros(shape = (len(samples), max_length, max(token_index.values())+1))"
      ],
      "metadata": {
        "id": "RpDO4TiuYRRn"
      },
      "execution_count": 7,
      "outputs": []
    },
    {
      "cell_type": "code",
      "source": [
        ""
      ],
      "metadata": {
        "id": "LOQ3mHuRZ6zF"
      },
      "execution_count": null,
      "outputs": []
    },
    {
      "cell_type": "code",
      "source": [
        "for i, sample in enumerate(samples):\n",
        "  for j, word in list(enumerate(sample.split())) [:max_length]:\n",
        "    index = token_index.get(word)\n",
        "    results[i, j, index] = 1"
      ],
      "metadata": {
        "id": "tmwyT-a2YnlH"
      },
      "execution_count": 11,
      "outputs": []
    }
  ]
}